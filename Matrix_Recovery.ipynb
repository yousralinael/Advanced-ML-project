{
  "cells": [
    {
      "cell_type": "markdown",
      "source": [
        "---\n",
        "\n",
        "### **Implementation of a matrix completion problem**\n",
        "\n",
        "\n",
        "Ikram EL KHANBAA\n",
        "\\\n",
        "Yousra Lina EL KHALLOUFI\n",
        "\n",
        "\n",
        "---"
      ],
      "metadata": {
        "id": "RiUg43gsoORA"
      }
    },
    {
      "cell_type": "markdown",
      "source": [
        "\n",
        "After reading and understanding '*Implicit Regularization in Matrix Factorization (2017)*' by Gunasekar et al., we decided to implement a matrix completion problem in order to empirically understand the results presented by the paper."
      ],
      "metadata": {
        "id": "V9G9PxSxoN8H"
      }
    },
    {
      "cell_type": "markdown",
      "metadata": {
        "id": "7FyedzFWrN4D"
      },
      "source": [
        "# **Data**"
      ]
    },
    {
      "cell_type": "markdown",
      "source": [
        "We will use the MovieLens dataset (the same used in the paper). We will construct our matrix based on this dataset."
      ],
      "metadata": {
        "id": "c78p-5s6pEUP"
      }
    },
    {
      "cell_type": "markdown",
      "metadata": {
        "id": "y0SA__pSreby"
      },
      "source": [
        "We upload our MovieLens dataset from https://grouplens.org/datasets/movielens/. We use the smallest dataset with 100 000 ratings, this dataset is aimed for educational use."
      ]
    },
    {
      "cell_type": "code",
      "execution_count": 7,
      "metadata": {
        "id": "324crijMXXSB"
      },
      "outputs": [],
      "source": [
        "#first imports\n",
        "\n",
        "import pandas as pd\n",
        "import matplotlib.pyplot as plt\n",
        "import numpy as np"
      ]
    },
    {
      "cell_type": "markdown",
      "source": [
        "Our main goal is not to perform predictions on the ratings, or to carry out a recommandation system. We mainly aim to predict some entries of a matrix using gradient descent on the factorization of the matrix and to see if the output of the gradient is close to the minimum of the nuclear norm as suggested by the conjecture of the paper."
      ],
      "metadata": {
        "id": "p9HmVqF7pSgQ"
      }
    },
    {
      "cell_type": "markdown",
      "source": [
        "Hence, our focus will be only on numerical data and more particularly on the ratings of the movies."
      ],
      "metadata": {
        "id": "kbEtDYMUqKaM"
      }
    },
    {
      "cell_type": "code",
      "execution_count": 8,
      "metadata": {
        "id": "Ff5TVQNbXzLv"
      },
      "outputs": [],
      "source": [
        "#reading the data\n",
        "\n",
        "df = pd.read_csv('ratings.csv')"
      ]
    },
    {
      "cell_type": "code",
      "execution_count": 9,
      "metadata": {
        "colab": {
          "base_uri": "https://localhost:8080/"
        },
        "id": "OlFdH0U1v3X5",
        "outputId": "d38524de-1878-472c-a668-7166c87d99eb"
      },
      "outputs": [
        {
          "output_type": "execute_result",
          "data": {
            "text/plain": [
              "(100836, 4)"
            ]
          },
          "metadata": {},
          "execution_count": 9
        }
      ],
      "source": [
        "df.shape"
      ]
    },
    {
      "cell_type": "code",
      "execution_count": 10,
      "metadata": {
        "colab": {
          "base_uri": "https://localhost:8080/",
          "height": 206
        },
        "id": "iFuu6unpsMuJ",
        "outputId": "cd4fcb73-9737-4b83-92bf-bc144218c2b5"
      },
      "outputs": [
        {
          "output_type": "execute_result",
          "data": {
            "text/plain": [
              "   userId  movieId  rating  timestamp\n",
              "0       1        1     4.0  964982703\n",
              "1       1        3     4.0  964981247\n",
              "2       1        6     4.0  964982224\n",
              "3       1       47     5.0  964983815\n",
              "4       1       50     5.0  964982931"
            ],
            "text/html": [
              "\n",
              "  <div id=\"df-f33a18ef-dcff-4d11-9e4b-673def516c16\" class=\"colab-df-container\">\n",
              "    <div>\n",
              "<style scoped>\n",
              "    .dataframe tbody tr th:only-of-type {\n",
              "        vertical-align: middle;\n",
              "    }\n",
              "\n",
              "    .dataframe tbody tr th {\n",
              "        vertical-align: top;\n",
              "    }\n",
              "\n",
              "    .dataframe thead th {\n",
              "        text-align: right;\n",
              "    }\n",
              "</style>\n",
              "<table border=\"1\" class=\"dataframe\">\n",
              "  <thead>\n",
              "    <tr style=\"text-align: right;\">\n",
              "      <th></th>\n",
              "      <th>userId</th>\n",
              "      <th>movieId</th>\n",
              "      <th>rating</th>\n",
              "      <th>timestamp</th>\n",
              "    </tr>\n",
              "  </thead>\n",
              "  <tbody>\n",
              "    <tr>\n",
              "      <th>0</th>\n",
              "      <td>1</td>\n",
              "      <td>1</td>\n",
              "      <td>4.0</td>\n",
              "      <td>964982703</td>\n",
              "    </tr>\n",
              "    <tr>\n",
              "      <th>1</th>\n",
              "      <td>1</td>\n",
              "      <td>3</td>\n",
              "      <td>4.0</td>\n",
              "      <td>964981247</td>\n",
              "    </tr>\n",
              "    <tr>\n",
              "      <th>2</th>\n",
              "      <td>1</td>\n",
              "      <td>6</td>\n",
              "      <td>4.0</td>\n",
              "      <td>964982224</td>\n",
              "    </tr>\n",
              "    <tr>\n",
              "      <th>3</th>\n",
              "      <td>1</td>\n",
              "      <td>47</td>\n",
              "      <td>5.0</td>\n",
              "      <td>964983815</td>\n",
              "    </tr>\n",
              "    <tr>\n",
              "      <th>4</th>\n",
              "      <td>1</td>\n",
              "      <td>50</td>\n",
              "      <td>5.0</td>\n",
              "      <td>964982931</td>\n",
              "    </tr>\n",
              "  </tbody>\n",
              "</table>\n",
              "</div>\n",
              "    <div class=\"colab-df-buttons\">\n",
              "\n",
              "  <div class=\"colab-df-container\">\n",
              "    <button class=\"colab-df-convert\" onclick=\"convertToInteractive('df-f33a18ef-dcff-4d11-9e4b-673def516c16')\"\n",
              "            title=\"Convert this dataframe to an interactive table.\"\n",
              "            style=\"display:none;\">\n",
              "\n",
              "  <svg xmlns=\"http://www.w3.org/2000/svg\" height=\"24px\" viewBox=\"0 -960 960 960\">\n",
              "    <path d=\"M120-120v-720h720v720H120Zm60-500h600v-160H180v160Zm220 220h160v-160H400v160Zm0 220h160v-160H400v160ZM180-400h160v-160H180v160Zm440 0h160v-160H620v160ZM180-180h160v-160H180v160Zm440 0h160v-160H620v160Z\"/>\n",
              "  </svg>\n",
              "    </button>\n",
              "\n",
              "  <style>\n",
              "    .colab-df-container {\n",
              "      display:flex;\n",
              "      gap: 12px;\n",
              "    }\n",
              "\n",
              "    .colab-df-convert {\n",
              "      background-color: #E8F0FE;\n",
              "      border: none;\n",
              "      border-radius: 50%;\n",
              "      cursor: pointer;\n",
              "      display: none;\n",
              "      fill: #1967D2;\n",
              "      height: 32px;\n",
              "      padding: 0 0 0 0;\n",
              "      width: 32px;\n",
              "    }\n",
              "\n",
              "    .colab-df-convert:hover {\n",
              "      background-color: #E2EBFA;\n",
              "      box-shadow: 0px 1px 2px rgba(60, 64, 67, 0.3), 0px 1px 3px 1px rgba(60, 64, 67, 0.15);\n",
              "      fill: #174EA6;\n",
              "    }\n",
              "\n",
              "    .colab-df-buttons div {\n",
              "      margin-bottom: 4px;\n",
              "    }\n",
              "\n",
              "    [theme=dark] .colab-df-convert {\n",
              "      background-color: #3B4455;\n",
              "      fill: #D2E3FC;\n",
              "    }\n",
              "\n",
              "    [theme=dark] .colab-df-convert:hover {\n",
              "      background-color: #434B5C;\n",
              "      box-shadow: 0px 1px 3px 1px rgba(0, 0, 0, 0.15);\n",
              "      filter: drop-shadow(0px 1px 2px rgba(0, 0, 0, 0.3));\n",
              "      fill: #FFFFFF;\n",
              "    }\n",
              "  </style>\n",
              "\n",
              "    <script>\n",
              "      const buttonEl =\n",
              "        document.querySelector('#df-f33a18ef-dcff-4d11-9e4b-673def516c16 button.colab-df-convert');\n",
              "      buttonEl.style.display =\n",
              "        google.colab.kernel.accessAllowed ? 'block' : 'none';\n",
              "\n",
              "      async function convertToInteractive(key) {\n",
              "        const element = document.querySelector('#df-f33a18ef-dcff-4d11-9e4b-673def516c16');\n",
              "        const dataTable =\n",
              "          await google.colab.kernel.invokeFunction('convertToInteractive',\n",
              "                                                    [key], {});\n",
              "        if (!dataTable) return;\n",
              "\n",
              "        const docLinkHtml = 'Like what you see? Visit the ' +\n",
              "          '<a target=\"_blank\" href=https://colab.research.google.com/notebooks/data_table.ipynb>data table notebook</a>'\n",
              "          + ' to learn more about interactive tables.';\n",
              "        element.innerHTML = '';\n",
              "        dataTable['output_type'] = 'display_data';\n",
              "        await google.colab.output.renderOutput(dataTable, element);\n",
              "        const docLink = document.createElement('div');\n",
              "        docLink.innerHTML = docLinkHtml;\n",
              "        element.appendChild(docLink);\n",
              "      }\n",
              "    </script>\n",
              "  </div>\n",
              "\n",
              "\n",
              "<div id=\"df-8bed5b5b-f45c-439f-8927-047649a92f0f\">\n",
              "  <button class=\"colab-df-quickchart\" onclick=\"quickchart('df-8bed5b5b-f45c-439f-8927-047649a92f0f')\"\n",
              "            title=\"Suggest charts\"\n",
              "            style=\"display:none;\">\n",
              "\n",
              "<svg xmlns=\"http://www.w3.org/2000/svg\" height=\"24px\"viewBox=\"0 0 24 24\"\n",
              "     width=\"24px\">\n",
              "    <g>\n",
              "        <path d=\"M19 3H5c-1.1 0-2 .9-2 2v14c0 1.1.9 2 2 2h14c1.1 0 2-.9 2-2V5c0-1.1-.9-2-2-2zM9 17H7v-7h2v7zm4 0h-2V7h2v10zm4 0h-2v-4h2v4z\"/>\n",
              "    </g>\n",
              "</svg>\n",
              "  </button>\n",
              "\n",
              "<style>\n",
              "  .colab-df-quickchart {\n",
              "      --bg-color: #E8F0FE;\n",
              "      --fill-color: #1967D2;\n",
              "      --hover-bg-color: #E2EBFA;\n",
              "      --hover-fill-color: #174EA6;\n",
              "      --disabled-fill-color: #AAA;\n",
              "      --disabled-bg-color: #DDD;\n",
              "  }\n",
              "\n",
              "  [theme=dark] .colab-df-quickchart {\n",
              "      --bg-color: #3B4455;\n",
              "      --fill-color: #D2E3FC;\n",
              "      --hover-bg-color: #434B5C;\n",
              "      --hover-fill-color: #FFFFFF;\n",
              "      --disabled-bg-color: #3B4455;\n",
              "      --disabled-fill-color: #666;\n",
              "  }\n",
              "\n",
              "  .colab-df-quickchart {\n",
              "    background-color: var(--bg-color);\n",
              "    border: none;\n",
              "    border-radius: 50%;\n",
              "    cursor: pointer;\n",
              "    display: none;\n",
              "    fill: var(--fill-color);\n",
              "    height: 32px;\n",
              "    padding: 0;\n",
              "    width: 32px;\n",
              "  }\n",
              "\n",
              "  .colab-df-quickchart:hover {\n",
              "    background-color: var(--hover-bg-color);\n",
              "    box-shadow: 0 1px 2px rgba(60, 64, 67, 0.3), 0 1px 3px 1px rgba(60, 64, 67, 0.15);\n",
              "    fill: var(--button-hover-fill-color);\n",
              "  }\n",
              "\n",
              "  .colab-df-quickchart-complete:disabled,\n",
              "  .colab-df-quickchart-complete:disabled:hover {\n",
              "    background-color: var(--disabled-bg-color);\n",
              "    fill: var(--disabled-fill-color);\n",
              "    box-shadow: none;\n",
              "  }\n",
              "\n",
              "  .colab-df-spinner {\n",
              "    border: 2px solid var(--fill-color);\n",
              "    border-color: transparent;\n",
              "    border-bottom-color: var(--fill-color);\n",
              "    animation:\n",
              "      spin 1s steps(1) infinite;\n",
              "  }\n",
              "\n",
              "  @keyframes spin {\n",
              "    0% {\n",
              "      border-color: transparent;\n",
              "      border-bottom-color: var(--fill-color);\n",
              "      border-left-color: var(--fill-color);\n",
              "    }\n",
              "    20% {\n",
              "      border-color: transparent;\n",
              "      border-left-color: var(--fill-color);\n",
              "      border-top-color: var(--fill-color);\n",
              "    }\n",
              "    30% {\n",
              "      border-color: transparent;\n",
              "      border-left-color: var(--fill-color);\n",
              "      border-top-color: var(--fill-color);\n",
              "      border-right-color: var(--fill-color);\n",
              "    }\n",
              "    40% {\n",
              "      border-color: transparent;\n",
              "      border-right-color: var(--fill-color);\n",
              "      border-top-color: var(--fill-color);\n",
              "    }\n",
              "    60% {\n",
              "      border-color: transparent;\n",
              "      border-right-color: var(--fill-color);\n",
              "    }\n",
              "    80% {\n",
              "      border-color: transparent;\n",
              "      border-right-color: var(--fill-color);\n",
              "      border-bottom-color: var(--fill-color);\n",
              "    }\n",
              "    90% {\n",
              "      border-color: transparent;\n",
              "      border-bottom-color: var(--fill-color);\n",
              "    }\n",
              "  }\n",
              "</style>\n",
              "\n",
              "  <script>\n",
              "    async function quickchart(key) {\n",
              "      const quickchartButtonEl =\n",
              "        document.querySelector('#' + key + ' button');\n",
              "      quickchartButtonEl.disabled = true;  // To prevent multiple clicks.\n",
              "      quickchartButtonEl.classList.add('colab-df-spinner');\n",
              "      try {\n",
              "        const charts = await google.colab.kernel.invokeFunction(\n",
              "            'suggestCharts', [key], {});\n",
              "      } catch (error) {\n",
              "        console.error('Error during call to suggestCharts:', error);\n",
              "      }\n",
              "      quickchartButtonEl.classList.remove('colab-df-spinner');\n",
              "      quickchartButtonEl.classList.add('colab-df-quickchart-complete');\n",
              "    }\n",
              "    (() => {\n",
              "      let quickchartButtonEl =\n",
              "        document.querySelector('#df-8bed5b5b-f45c-439f-8927-047649a92f0f button');\n",
              "      quickchartButtonEl.style.display =\n",
              "        google.colab.kernel.accessAllowed ? 'block' : 'none';\n",
              "    })();\n",
              "  </script>\n",
              "</div>\n",
              "    </div>\n",
              "  </div>\n"
            ]
          },
          "metadata": {},
          "execution_count": 10
        }
      ],
      "source": [
        "df.head(5)"
      ]
    },
    {
      "cell_type": "markdown",
      "source": [
        "The dataset presents 100836 observations, each observation corresponds to a rating of a user on a movie."
      ],
      "metadata": {
        "id": "g8gATp0RqUbf"
      }
    },
    {
      "cell_type": "code",
      "execution_count": 11,
      "metadata": {
        "colab": {
          "base_uri": "https://localhost:8080/",
          "height": 482
        },
        "id": "vCRyQf30sPx4",
        "outputId": "6db349fd-d019-46fd-cfae-6fc03ca0a13b"
      },
      "outputs": [
        {
          "output_type": "execute_result",
          "data": {
            "text/plain": [
              "(array([ 4181.,  9342., 25597., 39954., 21762.]),\n",
              " array([0.5, 1.4, 2.3, 3.2, 4.1, 5. ]),\n",
              " <BarContainer object of 5 artists>)"
            ]
          },
          "metadata": {},
          "execution_count": 11
        },
        {
          "output_type": "display_data",
          "data": {
            "text/plain": [
              "<Figure size 640x480 with 1 Axes>"
            ],
            "image/png": "[encoded data removed]"
          },
          "metadata": {}
        }
      ],
      "source": [
        "#Histogram of the ratings\n",
        "\n",
        "plt.hist(df['rating'], bins = 5)"
      ]
    },
    {
      "cell_type": "markdown",
      "source": [
        "In this first visualization, we see that the most common rating is 4"
      ],
      "metadata": {
        "id": "3lT457F0qma3"
      }
    },
    {
      "cell_type": "code",
      "source": [
        "#Description of the dataset\n",
        "\n",
        "df.describe()"
      ],
      "metadata": {
        "colab": {
          "base_uri": "https://localhost:8080/",
          "height": 300
        },
        "id": "k8RR2Q9Gqyb1",
        "outputId": "11aa4eae-e8cd-4f46-9b2b-0615b6e9e1ab"
      },
      "execution_count": 12,
      "outputs": [
        {
          "output_type": "execute_result",
          "data": {
            "text/plain": [
              "              userId        movieId         rating     timestamp\n",
              "count  100836.000000  100836.000000  100836.000000  1.008360e+05\n",
              "mean      326.127564   19435.295718       3.501557  1.205946e+09\n",
              "std       182.618491   35530.987199       1.042529  2.162610e+08\n",
              "min         1.000000       1.000000       0.500000  8.281246e+08\n",
              "25%       177.000000    1199.000000       3.000000  1.019124e+09\n",
              "50%       325.000000    2991.000000       3.500000  1.186087e+09\n",
              "75%       477.000000    8122.000000       4.000000  1.435994e+09\n",
              "max       610.000000  193609.000000       5.000000  1.537799e+09"
            ],
            "text/html": [
              "\n",
              "  <div id=\"df-9db8e690-f9e2-4a60-bab9-9ca15d24bbb2\" class=\"colab-df-container\">\n",
              "    <div>\n",
              "<style scoped>\n",
              "    .dataframe tbody tr th:only-of-type {\n",
              "        vertical-align: middle;\n",
              "    }\n",
              "\n",
              "    .dataframe tbody tr th {\n",
              "        vertical-align: top;\n",
              "    }\n",
              "\n",
              "    .dataframe thead th {\n",
              "        text-align: right;\n",
              "    }\n",
              "</style>\n",
              "<table border=\"1\" class=\"dataframe\">\n",
              "  <thead>\n",
              "    <tr style=\"text-align: right;\">\n",
              "      <th></th>\n",
              "      <th>userId</th>\n",
              "      <th>movieId</th>\n",
              "      <th>rating</th>\n",
              "      <th>timestamp</th>\n",
              "    </tr>\n",
              "  </thead>\n",
              "  <tbody>\n",
              "    <tr>\n",
              "      <th>count</th>\n",
              "      <td>100836.000000</td>\n",
              "      <td>100836.000000</td>\n",
              "      <td>100836.000000</td>\n",
              "      <td>1.008360e+05</td>\n",
              "    </tr>\n",
              "    <tr>\n",
              "      <th>mean</th>\n",
              "      <td>326.127564</td>\n",
              "      <td>19435.295718</td>\n",
              "      <td>3.501557</td>\n",
              "      <td>1.205946e+09</td>\n",
              "    </tr>\n",
              "    <tr>\n",
              "      <th>std</th>\n",
              "      <td>182.618491</td>\n",
              "      <td>35530.987199</td>\n",
              "      <td>1.042529</td>\n",
              "      <td>2.162610e+08</td>\n",
              "    </tr>\n",
              "    <tr>\n",
              "      <th>min</th>\n",
              "      <td>1.000000</td>\n",
              "      <td>1.000000</td>\n",
              "      <td>0.500000</td>\n",
              "      <td>8.281246e+08</td>\n",
              "    </tr>\n",
              "    <tr>\n",
              "      <th>25%</th>\n",
              "      <td>177.000000</td>\n",
              "      <td>1199.000000</td>\n",
              "      <td>3.000000</td>\n",
              "      <td>1.019124e+09</td>\n",
              "    </tr>\n",
              "    <tr>\n",
              "      <th>50%</th>\n",
              "      <td>325.000000</td>\n",
              "      <td>2991.000000</td>\n",
              "      <td>3.500000</td>\n",
              "      <td>1.186087e+09</td>\n",
              "    </tr>\n",
              "    <tr>\n",
              "      <th>75%</th>\n",
              "      <td>477.000000</td>\n",
              "      <td>8122.000000</td>\n",
              "      <td>4.000000</td>\n",
              "      <td>1.435994e+09</td>\n",
              "    </tr>\n",
              "    <tr>\n",
              "      <th>max</th>\n",
              "      <td>610.000000</td>\n",
              "      <td>193609.000000</td>\n",
              "      <td>5.000000</td>\n",
              "      <td>1.537799e+09</td>\n",
              "    </tr>\n",
              "  </tbody>\n",
              "</table>\n",
              "</div>\n",
              "    <div class=\"colab-df-buttons\">\n",
              "\n",
              "  <div class=\"colab-df-container\">\n",
              "    <button class=\"colab-df-convert\" onclick=\"convertToInteractive('df-9db8e690-f9e2-4a60-bab9-9ca15d24bbb2')\"\n",
              "            title=\"Convert this dataframe to an interactive table.\"\n",
              "            style=\"display:none;\">\n",
              "\n",
              "  <svg xmlns=\"http://www.w3.org/2000/svg\" height=\"24px\" viewBox=\"0 -960 960 960\">\n",
              "    <path d=\"M120-120v-720h720v720H120Zm60-500h600v-160H180v160Zm220 220h160v-160H400v160Zm0 220h160v-160H400v160ZM180-400h160v-160H180v160Zm440 0h160v-160H620v160ZM180-180h160v-160H180v160Zm440 0h160v-160H620v160Z\"/>\n",
              "  </svg>\n",
              "    </button>\n",
              "\n",
              "  <style>\n",
              "    .colab-df-container {\n",
              "      display:flex;\n",
              "      gap: 12px;\n",
              "    }\n",
              "\n",
              "    .colab-df-convert {\n",
              "      background-color: #E8F0FE;\n",
              "      border: none;\n",
              "      border-radius: 50%;\n",
              "      cursor: pointer;\n",
              "      display: none;\n",
              "      fill: #1967D2;\n",
              "      height: 32px;\n",
              "      padding: 0 0 0 0;\n",
              "      width: 32px;\n",
              "    }\n",
              "\n",
              "    .colab-df-convert:hover {\n",
              "      background-color: #E2EBFA;\n",
              "      box-shadow: 0px 1px 2px rgba(60, 64, 67, 0.3), 0px 1px 3px 1px rgba(60, 64, 67, 0.15);\n",
              "      fill: #174EA6;\n",
              "    }\n",
              "\n",
              "    .colab-df-buttons div {\n",
              "      margin-bottom: 4px;\n",
              "    }\n",
              "\n",
              "    [theme=dark] .colab-df-convert {\n",
              "      background-color: #3B4455;\n",
              "      fill: #D2E3FC;\n",
              "    }\n",
              "\n",
              "    [theme=dark] .colab-df-convert:hover {\n",
              "      background-color: #434B5C;\n",
              "      box-shadow: 0px 1px 3px 1px rgba(0, 0, 0, 0.15);\n",
              "      filter: drop-shadow(0px 1px 2px rgba(0, 0, 0, 0.3));\n",
              "      fill: #FFFFFF;\n",
              "    }\n",
              "  </style>\n",
              "\n",
              "    <script>\n",
              "      const buttonEl =\n",
              "        document.querySelector('#df-9db8e690-f9e2-4a60-bab9-9ca15d24bbb2 button.colab-df-convert');\n",
              "      buttonEl.style.display =\n",
              "        google.colab.kernel.accessAllowed ? 'block' : 'none';\n",
              "\n",
              "      async function convertToInteractive(key) {\n",
              "        const element = document.querySelector('#df-9db8e690-f9e2-4a60-bab9-9ca15d24bbb2');\n",
              "        const dataTable =\n",
              "          await google.colab.kernel.invokeFunction('convertToInteractive',\n",
              "                                                    [key], {});\n",
              "        if (!dataTable) return;\n",
              "\n",
              "        const docLinkHtml = 'Like what you see? Visit the ' +\n",
              "          '<a target=\"_blank\" href=https://colab.research.google.com/notebooks/data_table.ipynb>data table notebook</a>'\n",
              "          + ' to learn more about interactive tables.';\n",
              "        element.innerHTML = '';\n",
              "        dataTable['output_type'] = 'display_data';\n",
              "        await google.colab.output.renderOutput(dataTable, element);\n",
              "        const docLink = document.createElement('div');\n",
              "        docLink.innerHTML = docLinkHtml;\n",
              "        element.appendChild(docLink);\n",
              "      }\n",
              "    </script>\n",
              "  </div>\n",
              "\n",
              "\n",
              "<div id=\"df-cf6d483d-2fdf-410c-9152-752218efd79b\">\n",
              "  <button class=\"colab-df-quickchart\" onclick=\"quickchart('df-cf6d483d-2fdf-410c-9152-752218efd79b')\"\n",
              "            title=\"Suggest charts\"\n",
              "            style=\"display:none;\">\n",
              "\n",
              "<svg xmlns=\"http://www.w3.org/2000/svg\" height=\"24px\"viewBox=\"0 0 24 24\"\n",
              "     width=\"24px\">\n",
              "    <g>\n",
              "        <path d=\"M19 3H5c-1.1 0-2 .9-2 2v14c0 1.1.9 2 2 2h14c1.1 0 2-.9 2-2V5c0-1.1-.9-2-2-2zM9 17H7v-7h2v7zm4 0h-2V7h2v10zm4 0h-2v-4h2v4z\"/>\n",
              "    </g>\n",
              "</svg>\n",
              "  </button>\n",
              "\n",
              "<style>\n",
              "  .colab-df-quickchart {\n",
              "      --bg-color: #E8F0FE;\n",
              "      --fill-color: #1967D2;\n",
              "      --hover-bg-color: #E2EBFA;\n",
              "      --hover-fill-color: #174EA6;\n",
              "      --disabled-fill-color: #AAA;\n",
              "      --disabled-bg-color: #DDD;\n",
              "  }\n",
              "\n",
              "  [theme=dark] .colab-df-quickchart {\n",
              "      --bg-color: #3B4455;\n",
              "      --fill-color: #D2E3FC;\n",
              "      --hover-bg-color: #434B5C;\n",
              "      --hover-fill-color: #FFFFFF;\n",
              "      --disabled-bg-color: #3B4455;\n",
              "      --disabled-fill-color: #666;\n",
              "  }\n",
              "\n",
              "  .colab-df-quickchart {\n",
              "    background-color: var(--bg-color);\n",
              "    border: none;\n",
              "    border-radius: 50%;\n",
              "    cursor: pointer;\n",
              "    display: none;\n",
              "    fill: var(--fill-color);\n",
              "    height: 32px;\n",
              "    padding: 0;\n",
              "    width: 32px;\n",
              "  }\n",
              "\n",
              "  .colab-df-quickchart:hover {\n",
              "    background-color: var(--hover-bg-color);\n",
              "    box-shadow: 0 1px 2px rgba(60, 64, 67, 0.3), 0 1px 3px 1px rgba(60, 64, 67, 0.15);\n",
              "    fill: var(--button-hover-fill-color);\n",
              "  }\n",
              "\n",
              "  .colab-df-quickchart-complete:disabled,\n",
              "  .colab-df-quickchart-complete:disabled:hover {\n",
              "    background-color: var(--disabled-bg-color);\n",
              "    fill: var(--disabled-fill-color);\n",
              "    box-shadow: none;\n",
              "  }\n",
              "\n",
              "  .colab-df-spinner {\n",
              "    border: 2px solid var(--fill-color);\n",
              "    border-color: transparent;\n",
              "    border-bottom-color: var(--fill-color);\n",
              "    animation:\n",
              "      spin 1s steps(1) infinite;\n",
              "  }\n",
              "\n",
              "  @keyframes spin {\n",
              "    0% {\n",
              "      border-color: transparent;\n",
              "      border-bottom-color: var(--fill-color);\n",
              "      border-left-color: var(--fill-color);\n",
              "    }\n",
              "    20% {\n",
              "      border-color: transparent;\n",
              "      border-left-color: var(--fill-color);\n",
              "      border-top-color: var(--fill-color);\n",
              "    }\n",
              "    30% {\n",
              "      border-color: transparent;\n",
              "      border-left-color: var(--fill-color);\n",
              "      border-top-color: var(--fill-color);\n",
              "      border-right-color: var(--fill-color);\n",
              "    }\n",
              "    40% {\n",
              "      border-color: transparent;\n",
              "      border-right-color: var(--fill-color);\n",
              "      border-top-color: var(--fill-color);\n",
              "    }\n",
              "    60% {\n",
              "      border-color: transparent;\n",
              "      border-right-color: var(--fill-color);\n",
              "    }\n",
              "    80% {\n",
              "      border-color: transparent;\n",
              "      border-right-color: var(--fill-color);\n",
              "      border-bottom-color: var(--fill-color);\n",
              "    }\n",
              "    90% {\n",
              "      border-color: transparent;\n",
              "      border-bottom-color: var(--fill-color);\n",
              "    }\n",
              "  }\n",
              "</style>\n",
              "\n",
              "  <script>\n",
              "    async function quickchart(key) {\n",
              "      const quickchartButtonEl =\n",
              "        document.querySelector('#' + key + ' button');\n",
              "      quickchartButtonEl.disabled = true;  // To prevent multiple clicks.\n",
              "      quickchartButtonEl.classList.add('colab-df-spinner');\n",
              "      try {\n",
              "        const charts = await google.colab.kernel.invokeFunction(\n",
              "            'suggestCharts', [key], {});\n",
              "      } catch (error) {\n",
              "        console.error('Error during call to suggestCharts:', error);\n",
              "      }\n",
              "      quickchartButtonEl.classList.remove('colab-df-spinner');\n",
              "      quickchartButtonEl.classList.add('colab-df-quickchart-complete');\n",
              "    }\n",
              "    (() => {\n",
              "      let quickchartButtonEl =\n",
              "        document.querySelector('#df-cf6d483d-2fdf-410c-9152-752218efd79b button');\n",
              "      quickchartButtonEl.style.display =\n",
              "        google.colab.kernel.accessAllowed ? 'block' : 'none';\n",
              "    })();\n",
              "  </script>\n",
              "</div>\n",
              "    </div>\n",
              "  </div>\n"
            ]
          },
          "metadata": {},
          "execution_count": 12
        }
      ]
    },
    {
      "cell_type": "markdown",
      "source": [
        "The average rating is 3.5"
      ],
      "metadata": {
        "id": "GJ3uRU5_rBcp"
      }
    },
    {
      "cell_type": "code",
      "execution_count": 13,
      "metadata": {
        "colab": {
          "base_uri": "https://localhost:8080/"
        },
        "id": "KEdkmDmts0m8",
        "outputId": "2b30c23f-4318-4fb9-eeed-1cdf568c920b"
      },
      "outputs": [
        {
          "output_type": "execute_result",
          "data": {
            "text/plain": [
              "userId       False\n",
              "movieId      False\n",
              "rating       False\n",
              "timestamp    False\n",
              "dtype: bool"
            ]
          },
          "metadata": {},
          "execution_count": 13
        }
      ],
      "source": [
        "#missing values\n",
        "\n",
        "df.isnull(). any()"
      ]
    },
    {
      "cell_type": "markdown",
      "source": [
        "The dataset does not present any missing values."
      ],
      "metadata": {
        "id": "iZ9BVzEGrHr7"
      }
    },
    {
      "cell_type": "code",
      "execution_count": 14,
      "metadata": {
        "colab": {
          "base_uri": "https://localhost:8080/"
        },
        "id": "c2TSb5YYtEgS",
        "outputId": "5a52590c-15cb-4a75-d0ef-a83da581a795"
      },
      "outputs": [
        {
          "output_type": "execute_result",
          "data": {
            "text/plain": [
              "userId         int64\n",
              "movieId        int64\n",
              "rating       float64\n",
              "timestamp      int64\n",
              "dtype: object"
            ]
          },
          "metadata": {},
          "execution_count": 14
        }
      ],
      "source": [
        "#types of data\n",
        "\n",
        "df.dtypes"
      ]
    },
    {
      "cell_type": "markdown",
      "source": [
        "Our variable of interest, the ratings, is a float which is wanted."
      ],
      "metadata": {
        "id": "IM2Cy16OrMEZ"
      }
    },
    {
      "cell_type": "markdown",
      "metadata": {
        "id": "xBRb_K5r02wm"
      },
      "source": [
        "**Our matrix**"
      ]
    },
    {
      "cell_type": "markdown",
      "source": [
        "After the first exploration of the data, we are now interested in constructing our matrix $X$."
      ],
      "metadata": {
        "id": "lj8qAbzorUBW"
      }
    },
    {
      "cell_type": "markdown",
      "source": [
        "In order to obtain a matrix in $R^{n \\times m}$, with the entries being the ratings, we pivot our dataset. The rows of the matrix corresponds to the users and the columns to the movies. Hence, we have a matrix full of ratings but with lots of zeros as not every movie is rated by every user."
      ],
      "metadata": {
        "id": "RfGOeg04rhxz"
      }
    },
    {
      "cell_type": "code",
      "execution_count": 15,
      "metadata": {
        "colab": {
          "base_uri": "https://localhost:8080/",
          "height": 267
        },
        "id": "4vSDYKvt07Ru",
        "outputId": "640f46e8-42ea-402d-cdf6-7cf129eb1119"
      },
      "outputs": [
        {
          "output_type": "execute_result",
          "data": {
            "text/plain": [
              "movieId  1       2       3       4       5       6       7       8       \\\n",
              "userId                                                                    \n",
              "1           4.0     0.0     4.0     0.0     0.0     4.0     0.0     0.0   \n",
              "2           0.0     0.0     0.0     0.0     0.0     0.0     0.0     0.0   \n",
              "3           0.0     0.0     0.0     0.0     0.0     0.0     0.0     0.0   \n",
              "4           0.0     0.0     0.0     0.0     0.0     0.0     0.0     0.0   \n",
              "5           4.0     0.0     0.0     0.0     0.0     0.0     0.0     0.0   \n",
              "\n",
              "movieId  9       10      ...  193565  193567  193571  193573  193579  193581  \\\n",
              "userId                   ...                                                   \n",
              "1           0.0     0.0  ...     0.0     0.0     0.0     0.0     0.0     0.0   \n",
              "2           0.0     0.0  ...     0.0     0.0     0.0     0.0     0.0     0.0   \n",
              "3           0.0     0.0  ...     0.0     0.0     0.0     0.0     0.0     0.0   \n",
              "4           0.0     0.0  ...     0.0     0.0     0.0     0.0     0.0     0.0   \n",
              "5           0.0     0.0  ...     0.0     0.0     0.0     0.0     0.0     0.0   \n",
              "\n",
              "movieId  193583  193585  193587  193609  \n",
              "userId                                   \n",
              "1           0.0     0.0     0.0     0.0  \n",
              "2           0.0     0.0     0.0     0.0  \n",
              "3           0.0     0.0     0.0     0.0  \n",
              "4           0.0     0.0     0.0     0.0  \n",
              "5           0.0     0.0     0.0     0.0  \n",
              "\n",
              "[5 rows x 9724 columns]"
            ],
            "text/html": [
              "\n",
              "  <div id=\"df-0e3deed4-23d5-4fe4-89ec-f45a7d200deb\" class=\"colab-df-container\">\n",
              "    <div>\n",
              "<style scoped>\n",
              "    .dataframe tbody tr th:only-of-type {\n",
              "        vertical-align: middle;\n",
              "    }\n",
              "\n",
              "    .dataframe tbody tr th {\n",
              "        vertical-align: top;\n",
              "    }\n",
              "\n",
              "    .dataframe thead th {\n",
              "        text-align: right;\n",
              "    }\n",
              "</style>\n",
              "<table border=\"1\" class=\"dataframe\">\n",
              "  <thead>\n",
              "    <tr style=\"text-align: right;\">\n",
              "      <th>movieId</th>\n",
              "      <th>1</th>\n",
              "      <th>2</th>\n",
              "      <th>3</th>\n",
              "      <th>4</th>\n",
              "      <th>5</th>\n",
              "      <th>6</th>\n",
              "      <th>7</th>\n",
              "      <th>8</th>\n",
              "      <th>9</th>\n",
              "      <th>10</th>\n",
              "      <th>...</th>\n",
              "      <th>193565</th>\n",
              "      <th>193567</th>\n",
              "      <th>193571</th>\n",
              "      <th>193573</th>\n",
              "      <th>193579</th>\n",
              "      <th>193581</th>\n",
              "      <th>193583</th>\n",
              "      <th>193585</th>\n",
              "      <th>193587</th>\n",
              "      <th>193609</th>\n",
              "    </tr>\n",
              "    <tr>\n",
              "      <th>userId</th>\n",
              "      <th></th>\n",
              "      <th></th>\n",
              "      <th></th>\n",
              "      <th></th>\n",
              "      <th></th>\n",
              "      <th></th>\n",
              "      <th></th>\n",
              "      <th></th>\n",
              "      <th></th>\n",
              "      <th></th>\n",
              "      <th></th>\n",
              "      <th></th>\n",
              "      <th></th>\n",
              "      <th></th>\n",
              "      <th></th>\n",
              "      <th></th>\n",
              "      <th></th>\n",
              "      <th></th>\n",
              "      <th></th>\n",
              "      <th></th>\n",
              "      <th></th>\n",
              "    </tr>\n",
              "  </thead>\n",
              "  <tbody>\n",
              "    <tr>\n",
              "      <th>1</th>\n",
              "      <td>4.0</td>\n",
              "      <td>0.0</td>\n",
              "      <td>4.0</td>\n",
              "      <td>0.0</td>\n",
              "      <td>0.0</td>\n",
              "      <td>4.0</td>\n",
              "      <td>0.0</td>\n",
              "      <td>0.0</td>\n",
              "      <td>0.0</td>\n",
              "      <td>0.0</td>\n",
              "      <td>...</td>\n",
              "      <td>0.0</td>\n",
              "      <td>0.0</td>\n",
              "      <td>0.0</td>\n",
              "      <td>0.0</td>\n",
              "      <td>0.0</td>\n",
              "      <td>0.0</td>\n",
              "      <td>0.0</td>\n",
              "      <td>0.0</td>\n",
              "      <td>0.0</td>\n",
              "      <td>0.0</td>\n",
              "    </tr>\n",
              "    <tr>\n",
              "      <th>2</th>\n",
              "      <td>0.0</td>\n",
              "      <td>0.0</td>\n",
              "      <td>0.0</td>\n",
              "      <td>0.0</td>\n",
              "      <td>0.0</td>\n",
              "      <td>0.0</td>\n",
              "      <td>0.0</td>\n",
              "      <td>0.0</td>\n",
              "      <td>0.0</td>\n",
              "      <td>0.0</td>\n",
              "      <td>...</td>\n",
              "      <td>0.0</td>\n",
              "      <td>0.0</td>\n",
              "      <td>0.0</td>\n",
              "      <td>0.0</td>\n",
              "      <td>0.0</td>\n",
              "      <td>0.0</td>\n",
              "      <td>0.0</td>\n",
              "      <td>0.0</td>\n",
              "      <td>0.0</td>\n",
              "      <td>0.0</td>\n",
              "    </tr>\n",
              "    <tr>\n",
              "      <th>3</th>\n",
              "      <td>0.0</td>\n",
              "      <td>0.0</td>\n",
              "      <td>0.0</td>\n",
              "      <td>0.0</td>\n",
              "      <td>0.0</td>\n",
              "      <td>0.0</td>\n",
              "      <td>0.0</td>\n",
              "      <td>0.0</td>\n",
              "      <td>0.0</td>\n",
              "      <td>0.0</td>\n",
              "      <td>...</td>\n",
              "      <td>0.0</td>\n",
              "      <td>0.0</td>\n",
              "      <td>0.0</td>\n",
              "      <td>0.0</td>\n",
              "      <td>0.0</td>\n",
              "      <td>0.0</td>\n",
              "      <td>0.0</td>\n",
              "      <td>0.0</td>\n",
              "      <td>0.0</td>\n",
              "      <td>0.0</td>\n",
              "    </tr>\n",
              "    <tr>\n",
              "      <th>4</th>\n",
              "      <td>0.0</td>\n",
              "      <td>0.0</td>\n",
              "      <td>0.0</td>\n",
              "      <td>0.0</td>\n",
              "      <td>0.0</td>\n",
              "      <td>0.0</td>\n",
              "      <td>0.0</td>\n",
              "      <td>0.0</td>\n",
              "      <td>0.0</td>\n",
              "      <td>0.0</td>\n",
              "      <td>...</td>\n",
              "      <td>0.0</td>\n",
              "      <td>0.0</td>\n",
              "      <td>0.0</td>\n",
              "      <td>0.0</td>\n",
              "      <td>0.0</td>\n",
              "      <td>0.0</td>\n",
              "      <td>0.0</td>\n",
              "      <td>0.0</td>\n",
              "      <td>0.0</td>\n",
              "      <td>0.0</td>\n",
              "    </tr>\n",
              "    <tr>\n",
              "      <th>5</th>\n",
              "      <td>4.0</td>\n",
              "      <td>0.0</td>\n",
              "      <td>0.0</td>\n",
              "      <td>0.0</td>\n",
              "      <td>0.0</td>\n",
              "      <td>0.0</td>\n",
              "      <td>0.0</td>\n",
              "      <td>0.0</td>\n",
              "      <td>0.0</td>\n",
              "      <td>0.0</td>\n",
              "      <td>...</td>\n",
              "      <td>0.0</td>\n",
              "      <td>0.0</td>\n",
              "      <td>0.0</td>\n",
              "      <td>0.0</td>\n",
              "      <td>0.0</td>\n",
              "      <td>0.0</td>\n",
              "      <td>0.0</td>\n",
              "      <td>0.0</td>\n",
              "      <td>0.0</td>\n",
              "      <td>0.0</td>\n",
              "    </tr>\n",
              "  </tbody>\n",
              "</table>\n",
              "<p>5 rows × 9724 columns</p>\n",
              "</div>\n",
              "    <div class=\"colab-df-buttons\">\n",
              "\n",
              "  <div class=\"colab-df-container\">\n",
              "    <button class=\"colab-df-convert\" onclick=\"convertToInteractive('df-0e3deed4-23d5-4fe4-89ec-f45a7d200deb')\"\n",
              "            title=\"Convert this dataframe to an interactive table.\"\n",
              "            style=\"display:none;\">\n",
              "\n",
              "  <svg xmlns=\"http://www.w3.org/2000/svg\" height=\"24px\" viewBox=\"0 -960 960 960\">\n",
              "    <path d=\"M120-120v-720h720v720H120Zm60-500h600v-160H180v160Zm220 220h160v-160H400v160Zm0 220h160v-160H400v160ZM180-400h160v-160H180v160Zm440 0h160v-160H620v160ZM180-180h160v-160H180v160Zm440 0h160v-160H620v160Z\"/>\n",
              "  </svg>\n",
              "    </button>\n",
              "\n",
              "  <style>\n",
              "    .colab-df-container {\n",
              "      display:flex;\n",
              "      gap: 12px;\n",
              "    }\n",
              "\n",
              "    .colab-df-convert {\n",
              "      background-color: #E8F0FE;\n",
              "      border: none;\n",
              "      border-radius: 50%;\n",
              "      cursor: pointer;\n",
              "      display: none;\n",
              "      fill: #1967D2;\n",
              "      height: 32px;\n",
              "      padding: 0 0 0 0;\n",
              "      width: 32px;\n",
              "    }\n",
              "\n",
              "    .colab-df-convert:hover {\n",
              "      background-color: #E2EBFA;\n",
              "      box-shadow: 0px 1px 2px rgba(60, 64, 67, 0.3), 0px 1px 3px 1px rgba(60, 64, 67, 0.15);\n",
              "      fill: #174EA6;\n",
              "    }\n",
              "\n",
              "    .colab-df-buttons div {\n",
              "      margin-bottom: 4px;\n",
              "    }\n",
              "\n",
              "    [theme=dark] .colab-df-convert {\n",
              "      background-color: #3B4455;\n",
              "      fill: #D2E3FC;\n",
              "    }\n",
              "\n",
              "    [theme=dark] .colab-df-convert:hover {\n",
              "      background-color: #434B5C;\n",
              "      box-shadow: 0px 1px 3px 1px rgba(0, 0, 0, 0.15);\n",
              "      filter: drop-shadow(0px 1px 2px rgba(0, 0, 0, 0.3));\n",
              "      fill: #FFFFFF;\n",
              "    }\n",
              "  </style>\n",
              "\n",
              "    <script>\n",
              "      const buttonEl =\n",
              "        document.querySelector('#df-0e3deed4-23d5-4fe4-89ec-f45a7d200deb button.colab-df-convert');\n",
              "      buttonEl.style.display =\n",
              "        google.colab.kernel.accessAllowed ? 'block' : 'none';\n",
              "\n",
              "      async function convertToInteractive(key) {\n",
              "        const element = document.querySelector('#df-0e3deed4-23d5-4fe4-89ec-f45a7d200deb');\n",
              "        const dataTable =\n",
              "          await google.colab.kernel.invokeFunction('convertToInteractive',\n",
              "                                                    [key], {});\n",
              "        if (!dataTable) return;\n",
              "\n",
              "        const docLinkHtml = 'Like what you see? Visit the ' +\n",
              "          '<a target=\"_blank\" href=https://colab.research.google.com/notebooks/data_table.ipynb>data table notebook</a>'\n",
              "          + ' to learn more about interactive tables.';\n",
              "        element.innerHTML = '';\n",
              "        dataTable['output_type'] = 'display_data';\n",
              "        await google.colab.output.renderOutput(dataTable, element);\n",
              "        const docLink = document.createElement('div');\n",
              "        docLink.innerHTML = docLinkHtml;\n",
              "        element.appendChild(docLink);\n",
              "      }\n",
              "    </script>\n",
              "  </div>\n",
              "\n",
              "\n",
              "<div id=\"df-39b16d18-949b-4bb4-a905-5d200104f62f\">\n",
              "  <button class=\"colab-df-quickchart\" onclick=\"quickchart('df-39b16d18-949b-4bb4-a905-5d200104f62f')\"\n",
              "            title=\"Suggest charts\"\n",
              "            style=\"display:none;\">\n",
              "\n",
              "<svg xmlns=\"http://www.w3.org/2000/svg\" height=\"24px\"viewBox=\"0 0 24 24\"\n",
              "     width=\"24px\">\n",
              "    <g>\n",
              "        <path d=\"M19 3H5c-1.1 0-2 .9-2 2v14c0 1.1.9 2 2 2h14c1.1 0 2-.9 2-2V5c0-1.1-.9-2-2-2zM9 17H7v-7h2v7zm4 0h-2V7h2v10zm4 0h-2v-4h2v4z\"/>\n",
              "    </g>\n",
              "</svg>\n",
              "  </button>\n",
              "\n",
              "<style>\n",
              "  .colab-df-quickchart {\n",
              "      --bg-color: #E8F0FE;\n",
              "      --fill-color: #1967D2;\n",
              "      --hover-bg-color: #E2EBFA;\n",
              "      --hover-fill-color: #174EA6;\n",
              "      --disabled-fill-color: #AAA;\n",
              "      --disabled-bg-color: #DDD;\n",
              "  }\n",
              "\n",
              "  [theme=dark] .colab-df-quickchart {\n",
              "      --bg-color: #3B4455;\n",
              "      --fill-color: #D2E3FC;\n",
              "      --hover-bg-color: #434B5C;\n",
              "      --hover-fill-color: #FFFFFF;\n",
              "      --disabled-bg-color: #3B4455;\n",
              "      --disabled-fill-color: #666;\n",
              "  }\n",
              "\n",
              "  .colab-df-quickchart {\n",
              "    background-color: var(--bg-color);\n",
              "    border: none;\n",
              "    border-radius: 50%;\n",
              "    cursor: pointer;\n",
              "    display: none;\n",
              "    fill: var(--fill-color);\n",
              "    height: 32px;\n",
              "    padding: 0;\n",
              "    width: 32px;\n",
              "  }\n",
              "\n",
              "  .colab-df-quickchart:hover {\n",
              "    background-color: var(--hover-bg-color);\n",
              "    box-shadow: 0 1px 2px rgba(60, 64, 67, 0.3), 0 1px 3px 1px rgba(60, 64, 67, 0.15);\n",
              "    fill: var(--button-hover-fill-color);\n",
              "  }\n",
              "\n",
              "  .colab-df-quickchart-complete:disabled,\n",
              "  .colab-df-quickchart-complete:disabled:hover {\n",
              "    background-color: var(--disabled-bg-color);\n",
              "    fill: var(--disabled-fill-color);\n",
              "    box-shadow: none;\n",
              "  }\n",
              "\n",
              "  .colab-df-spinner {\n",
              "    border: 2px solid var(--fill-color);\n",
              "    border-color: transparent;\n",
              "    border-bottom-color: var(--fill-color);\n",
              "    animation:\n",
              "      spin 1s steps(1) infinite;\n",
              "  }\n",
              "\n",
              "  @keyframes spin {\n",
              "    0% {\n",
              "      border-color: transparent;\n",
              "      border-bottom-color: var(--fill-color);\n",
              "      border-left-color: var(--fill-color);\n",
              "    }\n",
              "    20% {\n",
              "      border-color: transparent;\n",
              "      border-left-color: var(--fill-color);\n",
              "      border-top-color: var(--fill-color);\n",
              "    }\n",
              "    30% {\n",
              "      border-color: transparent;\n",
              "      border-left-color: var(--fill-color);\n",
              "      border-top-color: var(--fill-color);\n",
              "      border-right-color: var(--fill-color);\n",
              "    }\n",
              "    40% {\n",
              "      border-color: transparent;\n",
              "      border-right-color: var(--fill-color);\n",
              "      border-top-color: var(--fill-color);\n",
              "    }\n",
              "    60% {\n",
              "      border-color: transparent;\n",
              "      border-right-color: var(--fill-color);\n",
              "    }\n",
              "    80% {\n",
              "      border-color: transparent;\n",
              "      border-right-color: var(--fill-color);\n",
              "      border-bottom-color: var(--fill-color);\n",
              "    }\n",
              "    90% {\n",
              "      border-color: transparent;\n",
              "      border-bottom-color: var(--fill-color);\n",
              "    }\n",
              "  }\n",
              "</style>\n",
              "\n",
              "  <script>\n",
              "    async function quickchart(key) {\n",
              "      const quickchartButtonEl =\n",
              "        document.querySelector('#' + key + ' button');\n",
              "      quickchartButtonEl.disabled = true;  // To prevent multiple clicks.\n",
              "      quickchartButtonEl.classList.add('colab-df-spinner');\n",
              "      try {\n",
              "        const charts = await google.colab.kernel.invokeFunction(\n",
              "            'suggestCharts', [key], {});\n",
              "      } catch (error) {\n",
              "        console.error('Error during call to suggestCharts:', error);\n",
              "      }\n",
              "      quickchartButtonEl.classList.remove('colab-df-spinner');\n",
              "      quickchartButtonEl.classList.add('colab-df-quickchart-complete');\n",
              "    }\n",
              "    (() => {\n",
              "      let quickchartButtonEl =\n",
              "        document.querySelector('#df-39b16d18-949b-4bb4-a905-5d200104f62f button');\n",
              "      quickchartButtonEl.style.display =\n",
              "        google.colab.kernel.accessAllowed ? 'block' : 'none';\n",
              "    })();\n",
              "  </script>\n",
              "</div>\n",
              "    </div>\n",
              "  </div>\n"
            ]
          },
          "metadata": {},
          "execution_count": 15
        }
      ],
      "source": [
        "mtrx_df = df.pivot(index = 'userId', columns ='movieId', values = 'rating').fillna(0)\n",
        "mtrx_df.head()"
      ]
    },
    {
      "cell_type": "markdown",
      "source": [
        "We convert our pandas dataframe to a numpy array to insure its goodfit with numpy methods."
      ],
      "metadata": {
        "id": "wDuTFjNfsC58"
      }
    },
    {
      "cell_type": "code",
      "execution_count": 16,
      "metadata": {
        "id": "TAsfeH2H1Pni"
      },
      "outputs": [],
      "source": [
        "X = mtrx_df.to_numpy()"
      ]
    },
    {
      "cell_type": "markdown",
      "source": [
        "The paper mainly studies the case of $X \\in R^{n \\times n}$, and gives a short overview of the case of $X \\in R^{n \\times m}$. Hence, to be in phase with the paper we reshape our matrix to be of size $n \\times n$"
      ],
      "metadata": {
        "id": "cBd5gCiisN8w"
      }
    },
    {
      "cell_type": "code",
      "execution_count": 17,
      "metadata": {
        "id": "Kk7hjqGiriGK"
      },
      "outputs": [],
      "source": [
        "X = X[:, :X.shape[0]]"
      ]
    },
    {
      "cell_type": "markdown",
      "source": [
        "We normalize our data, since its full of zeros it could introduce bias into our results."
      ],
      "metadata": {
        "id": "zTMmHV1lso5V"
      }
    },
    {
      "cell_type": "code",
      "execution_count": 18,
      "metadata": {
        "id": "ykfkSuDe1ehP"
      },
      "outputs": [],
      "source": [
        "X = (X - np.mean(X)) / np.std(X)"
      ]
    },
    {
      "cell_type": "markdown",
      "source": [
        "Now, we hide $m$ entries of $X$. Here we take $m=100$ as we should have $m << n \\times n$ and we stock the positions of the hidden entries."
      ],
      "metadata": {
        "id": "G8zXdPtftKJJ"
      }
    },
    {
      "cell_type": "code",
      "execution_count": 19,
      "metadata": {
        "id": "cNThJQ8J2CG9"
      },
      "outputs": [],
      "source": [
        "#We hide m values from X\n",
        "\n",
        "m = 100\n",
        "n = X.shape[1]\n",
        "\n",
        "row_positions = np.random.choice(np.arange(n), size=m, replace=True)\n",
        "col_positions = np.random.choice(np.arange(n), size=m, replace=True)\n",
        "\n",
        "# List of zero positions as tuples\n",
        "ones_positions_list = list(zip(row_positions, col_positions))\n"
      ]
    },
    {
      "cell_type": "markdown",
      "source": [
        "Our problem is the following:\n",
        "\n",
        "$\\min _{X \\succeq 0} F(X)=\\|\\mathcal{A}(X)-y\\|_2^2$\n",
        "\n",
        "\n"
      ],
      "metadata": {
        "id": "yY4_20iMtyg2"
      }
    },
    {
      "cell_type": "markdown",
      "source": [
        "We need to define our linear operator $\\mathcal{A}$ such that $\\mathcal{A}(X)_i = \\langle A_i, X_i \\rangle, A_i \\in \\mathbb{R}^{n \\times n}$. To do so we have to define the matrices of indicators $A_{i}$. For $i$, $A_{i}$ is full of zeros but at the $i^{th}$ position it has a one. It indicates the position of the $i^{th}$ we hid."
      ],
      "metadata": {
        "id": "wFKvzrSVuSM_"
      }
    },
    {
      "cell_type": "code",
      "execution_count": 20,
      "metadata": {
        "id": "eKv9Ooqwt8pQ"
      },
      "outputs": [],
      "source": [
        "def A(k):\n",
        "  A_k = np.zeros((n,n))\n",
        "  i,j = ones_positions_list[k]\n",
        "  A_k[i,j] = 1\n",
        "  return A_k"
      ]
    },
    {
      "cell_type": "markdown",
      "source": [
        "Now that $A_i$ are defined, we can define our linear operator $\\mathcal{A}$. We consider that the scalar product between two matrices is the trace of the matricial product of the transpose of one matrix times the other matrix."
      ],
      "metadata": {
        "id": "vt4tumwLv1Ss"
      }
    },
    {
      "cell_type": "code",
      "source": [
        "def linear_operator_A(X):\n",
        "    result = np.zeros((m,1))\n",
        "    for i in range(m):\n",
        "      A_i = A(i)\n",
        "      result[i,0] = np.trace(np.dot(A(i).T,X))\n",
        "    return result"
      ],
      "metadata": {
        "id": "ufI2VYtSv0gb"
      },
      "execution_count": 21,
      "outputs": []
    },
    {
      "cell_type": "markdown",
      "source": [
        "The last component we need is $y$, it is the vector that conserves all the hidden entries."
      ],
      "metadata": {
        "id": "idDr6_oOwM0G"
      }
    },
    {
      "cell_type": "code",
      "execution_count": 22,
      "metadata": {
        "id": "kDCk71Dg3mOj"
      },
      "outputs": [],
      "source": [
        "y = list(X[i, j] for i, j in ones_positions_list)"
      ]
    },
    {
      "cell_type": "code",
      "source": [
        "y = np.array(y)"
      ],
      "metadata": {
        "id": "mgfYNa2ywYrM"
      },
      "execution_count": 23,
      "outputs": []
    },
    {
      "cell_type": "code",
      "source": [
        "y = y.reshape((m,1))"
      ],
      "metadata": {
        "id": "6Fld-l5BwZOs"
      },
      "execution_count": 24,
      "outputs": []
    },
    {
      "cell_type": "markdown",
      "metadata": {
        "id": "T5PcI-kQfsgi"
      },
      "source": [
        "# **Completion of X**"
      ]
    },
    {
      "cell_type": "markdown",
      "source": [
        "**Gradient descent**"
      ],
      "metadata": {
        "id": "Q4QYCZxdzEvS"
      }
    },
    {
      "cell_type": "markdown",
      "source": [
        "Now that everything is ready, we can proceed to compute the gradient descent."
      ],
      "metadata": {
        "id": "b3OpAs_qwc8o"
      }
    },
    {
      "cell_type": "markdown",
      "source": [
        "The gradient descent won't be done on $X$ but instead on $U$ with $X = U^{T}.U$"
      ],
      "metadata": {
        "id": "6EQNH_4DwkE-"
      }
    },
    {
      "cell_type": "markdown",
      "source": [
        "We initialize our $U$ but with small values as suggested by the paper."
      ],
      "metadata": {
        "id": "UaVhV7d9wyfZ"
      }
    },
    {
      "cell_type": "code",
      "execution_count": 25,
      "metadata": {
        "id": "joSm4hV_f1r1"
      },
      "outputs": [],
      "source": [
        "#Initialize U\n",
        "\n",
        "U = np.random.rand(n, n) * 0.01 #U with small values\n"
      ]
    },
    {
      "cell_type": "markdown",
      "source": [
        "We define our parameters:"
      ],
      "metadata": {
        "id": "d-XAfXeGw6Vq"
      }
    },
    {
      "cell_type": "code",
      "execution_count": 26,
      "metadata": {
        "id": "nlJvLa5fneur"
      },
      "outputs": [],
      "source": [
        "#parameters\n",
        "\n",
        "learning_rate = 0.01\n",
        "num_iterations = 50"
      ]
    },
    {
      "cell_type": "markdown",
      "source": [
        "We go for a small number of iterations as the operations are highly computational (with 1000 iterations the algorithm run for 24h before breaking out)"
      ],
      "metadata": {
        "id": "BXwZVyWixAdW"
      }
    },
    {
      "cell_type": "markdown",
      "source": [
        "We define our objective function :            \n",
        "\\\n",
        "$\\|\\mathcal{A}(U^{T}.U)-y\\|_2^2$"
      ],
      "metadata": {
        "id": "D7tCiGSmxNNv"
      }
    },
    {
      "cell_type": "code",
      "execution_count": 27,
      "metadata": {
        "id": "ZhdMLtexn9mW"
      },
      "outputs": [],
      "source": [
        "def objective_function(U, A, y):\n",
        "    X = np.dot(U, U.T)\n",
        "    return np.linalg.norm(linear_operator_A(X) - y) ** 2 / 2"
      ]
    },
    {
      "cell_type": "markdown",
      "source": [
        "At the iteration $t$, the formula of the gradient respectfully to $U_{t}$ is :         \n",
        "$\\dot{U}_t = -\\mathcal{A^*} (\\mathcal{A}(U_t U_t^*) - y)U_t$\n",
        "\\\n",
        "\\\n",
        "We need to define $\\mathcal{A^*}$, the adjoint of $\\mathcal{A}$:"
      ],
      "metadata": {
        "id": "T2WNCKq6xMsn"
      }
    },
    {
      "cell_type": "code",
      "execution_count": 28,
      "metadata": {
        "id": "gt-cIlw6zohO"
      },
      "outputs": [],
      "source": [
        "def A_adjoint(y,n):\n",
        "  A_adj= np.zeros((n,n))\n",
        "  for i in range(y.shape[0]):\n",
        "    A_adj += y[i,0] * A(i)\n",
        "  return A_adj"
      ]
    },
    {
      "cell_type": "markdown",
      "source": [
        "Now we can implement our gradient:"
      ],
      "metadata": {
        "id": "Jl4O89WRybMN"
      }
    },
    {
      "cell_type": "code",
      "execution_count": 29,
      "metadata": {
        "id": "NZK_KqicoDFR"
      },
      "outputs": [],
      "source": [
        "def gradient(U, A, y):\n",
        "    X = np.dot(U, U.T)\n",
        "    grad_U = - np.dot(A_adjoint(linear_operator_A(X) - y ,n),U)\n",
        "    return grad_U"
      ]
    },
    {
      "cell_type": "code",
      "execution_count": 30,
      "metadata": {
        "id": "JEaHLWmwoX3c"
      },
      "outputs": [],
      "source": [
        "for i in range(num_iterations):\n",
        "    grad_U = gradient(U, A, y)\n",
        "    U -= learning_rate * grad_U\n",
        "\n",
        "    #Project U to ensure it remains positive semidefinite\n",
        "    U = np.maximum(U, 0)"
      ]
    },
    {
      "cell_type": "code",
      "source": [
        "U"
      ],
      "metadata": {
        "colab": {
          "base_uri": "https://localhost:8080/"
        },
        "id": "ZRDMBZwzvAVy",
        "outputId": "f27d6df1-f718-4a29-bd57-777851e2238d"
      },
      "execution_count": 31,
      "outputs": [
        {
          "output_type": "execute_result",
          "data": {
            "text/plain": [
              "array([[0.00976019, 0.00786648, 0.00806285, ..., 0.00148944, 0.00487209,\n",
              "        0.00783945],\n",
              "       [0.0103051 , 0.00468349, 0.00945615, ..., 0.00591567, 0.00719875,\n",
              "        0.00182567],\n",
              "       [0.00678142, 0.00368207, 0.00567286, ..., 0.00898115, 0.00772865,\n",
              "        0.00464787],\n",
              "       ...,\n",
              "       [0.00098445, 0.00313223, 0.0052191 , ..., 0.00650485, 0.00908888,\n",
              "        0.00092381],\n",
              "       [0.00689737, 0.00833672, 0.00240279, ..., 0.00711599, 0.00101121,\n",
              "        0.00058821],\n",
              "       [0.00587445, 0.00985445, 0.00296151, ..., 0.00463627, 0.00807963,\n",
              "        0.00795636]])"
            ]
          },
          "metadata": {},
          "execution_count": 31
        }
      ]
    },
    {
      "cell_type": "markdown",
      "source": [
        "The first reflex is to compare $X$ to $U.U^{T}$ as they are supposed to be equal"
      ],
      "metadata": {
        "id": "UswbvzA7yfmQ"
      }
    },
    {
      "cell_type": "code",
      "source": [
        "np.linalg.norm(X-np.dot(U,U.T))"
      ],
      "metadata": {
        "colab": {
          "base_uri": "https://localhost:8080/"
        },
        "id": "_3IJQXGtzxDF",
        "outputId": "5640b6d1-82e9-48fa-ff2e-657ea74c59fb"
      },
      "execution_count": 32,
      "outputs": [
        {
          "output_type": "execute_result",
          "data": {
            "text/plain": [
              "610.1447355360805"
            ]
          },
          "metadata": {},
          "execution_count": 32
        }
      ]
    },
    {
      "cell_type": "markdown",
      "source": [
        "Is the difference big ? We cannot conclude."
      ],
      "metadata": {
        "id": "rJzp10LIyxA0"
      }
    },
    {
      "cell_type": "markdown",
      "source": [
        "**The minimum of the nuclear norm**"
      ],
      "metadata": {
        "id": "mpmm81nDzO_x"
      }
    },
    {
      "cell_type": "markdown",
      "source": [
        "The paper postulates that the gradient flow converges to the minimum of the nuclear norm under the constraint that $\\mathcal{A}(X)= y$.\n",
        "\\\n",
        "In aim to test this result on our gradient descent we need to solve the minimization problem of the nuclear norm."
      ],
      "metadata": {
        "id": "6EWQkA5SzA4-"
      }
    },
    {
      "cell_type": "markdown",
      "source": [
        "Firstly, we define the nuclear norm"
      ],
      "metadata": {
        "id": "UYU4_CUf0kWN"
      }
    },
    {
      "cell_type": "code",
      "source": [
        "#nuclear norm\n",
        "\n",
        "def nuclear_norm(matrix):\n",
        "    x_matrix = matrix.reshape((n,n))\n",
        "    singular_values = np.linalg.svd(x_matrix, compute_uv=False)\n",
        "    nuclear_norm_value = np.sum(singular_values)\n",
        "    return nuclear_norm_value\n",
        "\n"
      ],
      "metadata": {
        "id": "yooaryzs1Ga7"
      },
      "execution_count": 33,
      "outputs": []
    },
    {
      "cell_type": "markdown",
      "source": [
        "We use the package cvxpy that provides solvers suitable for variables in $R^{n \\times \\n}$"
      ],
      "metadata": {
        "id": "5cf3j8cx0xy5"
      }
    },
    {
      "cell_type": "code",
      "source": [
        "import cvxpy as cp\n",
        "\n",
        "X_param = cp.Parameter((n, n))\n",
        "y_param = cp.Parameter((m, 1))\n",
        "A_X = cp.Parameter((m, 1))\n",
        "\n",
        "X_param.value = X\n",
        "y_param.value = y\n",
        "A_X.value = linear_operator_A(X)\n",
        "\n",
        "constraint = [A_X == y_param]\n",
        "\n",
        "objective = cp.Minimize(cp.norm(X_param, \"nuc\")) #the package already understands the nuclear norm\n",
        "\n",
        "problem = cp.Problem(objective, constraint)\n",
        "\n",
        "problem.solve()\n",
        "\n",
        "result_matrix = X_param.value\n",
        "\n",
        "# Print the result\n",
        "print(\"Optimal Matrix:\")\n",
        "print(result_matrix)\n"
      ],
      "metadata": {
        "colab": {
          "base_uri": "https://localhost:8080/"
        },
        "id": "C55PdQ2xKP_B",
        "outputId": "326d2b96-ebe2-4f85-e599-684d55d61699"
      },
      "execution_count": 34,
      "outputs": [
        {
          "output_type": "stream",
          "name": "stdout",
          "text": [
            "Optimal Matrix:\n",
            "[[ 4.76969727 -0.22010057  4.76969727 ... -0.22010057 -0.22010057\n",
            "  -0.22010057]\n",
            " [-0.22010057 -0.22010057 -0.22010057 ... -0.22010057 -0.22010057\n",
            "  -0.22010057]\n",
            " [-0.22010057 -0.22010057 -0.22010057 ... -0.22010057 -0.22010057\n",
            "  -0.22010057]\n",
            " ...\n",
            " [ 2.89852308  2.27479835  2.27479835 ...  2.27479835 -0.22010057\n",
            "  -0.22010057]\n",
            " [ 3.52224781 -0.22010057 -0.22010057 ... -0.22010057 -0.22010057\n",
            "  -0.22010057]\n",
            " [ 6.01714673 -0.22010057 -0.22010057 ... -0.22010057 -0.22010057\n",
            "  -0.22010057]]\n"
          ]
        }
      ]
    },
    {
      "cell_type": "code",
      "source": [
        "# from scipy.optimize import minimize\n",
        "# initial_guess = np.ones((n,n)).flatten()\n",
        "\n",
        "# # Define the constraint as a dictionary\n",
        "# constraint = {'type': 'eq', 'fun': constraint_function}\n",
        "\n",
        "# # Setup the optimization problem\n",
        "# optimization_result = minimize(nuclear_norm, initial_guess, constraints=constraint, method = \"SLSQP\")\n",
        "\n",
        "# # Extract the result\n",
        "# optimized_X = optimization_result.X\n",
        "\n",
        "# # Print the result\n",
        "# print(\"Optimized X:\", optimized_X)\n",
        "# print(\"Minimum norm:\", optimization_result.fun)\n",
        "# print(\"Constraint value:\", constraint(optimized_X))"
      ],
      "metadata": {
        "id": "Hw9aQgvQ2EFv"
      },
      "execution_count": 35,
      "outputs": []
    },
    {
      "cell_type": "markdown",
      "source": [
        "Now we compare our result matrix to the gradient flow to see if they are close."
      ],
      "metadata": {
        "id": "KUcGn1M51LiA"
      }
    },
    {
      "cell_type": "code",
      "source": [
        "np.linalg.norm(result_matrix - U)"
      ],
      "metadata": {
        "colab": {
          "base_uri": "https://localhost:8080/"
        },
        "id": "eIOH3ej1IggA",
        "outputId": "65d35c53-a5b1-44e7-faf0-7c55b0777bb1"
      },
      "execution_count": 36,
      "outputs": [
        {
          "output_type": "execute_result",
          "data": {
            "text/plain": [
              "610.0246414421141"
            ]
          },
          "metadata": {},
          "execution_count": 36
        }
      ]
    },
    {
      "cell_type": "markdown",
      "source": [
        "Computing this difference is not enough to conclude because :\n",
        "\n",
        "\n",
        "\n",
        "1.   The number of iterations is low, can we talk about convergence in this context?\n",
        "2.   We need to perform more than one computation of the gradient and take the average. This is more convenient if we want to interpret the results respectfully to the paper.\n",
        "\n"
      ],
      "metadata": {
        "id": "pIjRjMWa1UEc"
      }
    },
    {
      "cell_type": "markdown",
      "source": [
        "**An alternative of computing the gradient : torch framework**"
      ],
      "metadata": {
        "id": "MAuUcj4Y10Q7"
      }
    },
    {
      "cell_type": "code",
      "execution_count": null,
      "metadata": {
        "id": "Kr0XvhtQognD"
      },
      "outputs": [],
      "source": [
        "import torch\n",
        "import numpy as np\n",
        "\n",
        "def A(k):\n",
        "    A_k = torch.zeros((n, n))\n",
        "    i, j = ones_positions_list[k]\n",
        "    A_k[i, j] = 1\n",
        "    return A_k\n",
        "\n",
        "y = torch.tensor([X[i, j] for i, j in ones_positions_list], dtype=torch.float32).view(-1, 1)\n",
        "\n",
        "U = torch.nn.Parameter(torch.rand((n, n), requires_grad=True) * 0.01)\n",
        "\n",
        "learning_rate = 0.01\n",
        "num_iterations = 50\n",
        "\n",
        "def linear_operator_A(X):\n",
        "    result = torch.zeros((m, 1))\n",
        "    for i in range(m):\n",
        "        A_i = A(i)\n",
        "        result[i, 0] = torch.trace(torch.matmul(A(i).t(), X))\n",
        "    return result\n",
        "\n",
        "def objective_function(U, A, y):\n",
        "    X = torch.matmul(U, U.t())\n",
        "    return torch.norm(linear_operator_A(X) - y).pow(2) / 2\n",
        "\n",
        "def A_adjoint(y, n):\n",
        "    A_adj = torch.zeros((n, n))\n",
        "    for i in range(y.shape[0]):\n",
        "        A_adj += y[i, 0] * A(i)\n",
        "    return A_adj\n",
        "\n",
        "def gradient(U, A, y):\n",
        "    X = torch.matmul(U, U.t())\n",
        "    grad_U = -torch.matmul(A_adjoint(linear_operator_A(X) - y, n), U)\n",
        "    return grad_U\n",
        "\n",
        "optimizer = torch.optim.SGD([U], lr=learning_rate)\n",
        "\n",
        "for i in range(num_iterations):\n",
        "    optimizer.zero_grad()\n",
        "    loss = objective_function(U, A, y)\n",
        "    loss.backward()\n",
        "    optimizer.step()\n",
        "    U.data = torch.maximum(U, torch.zeros_like(U))\n",
        "\n",
        "# Final U after optimization\n",
        "final_U = U.detach().numpy()"
      ]
    },
    {
      "cell_type": "code",
      "source": [
        "final_U"
      ],
      "metadata": {
        "id": "F6CcCkg9vDKK"
      },
      "execution_count": null,
      "outputs": []
    }
  ],
  "metadata": {
    "colab": {
      "provenance": []
    },
    "kernelspec": {
      "display_name": "Python 3",
      "name": "python3"
    },
    "language_info": {
      "name": "python"
    }
  },
  "nbformat": 4,
  "nbformat_minor": 0
}